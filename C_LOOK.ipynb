{
  "nbformat": 4,
  "nbformat_minor": 0,
  "metadata": {
    "colab": {
      "provenance": [],
      "authorship_tag": "ABX9TyMBwXtHokeWseNzR/FLU7+Q",
      "include_colab_link": true
    },
    "kernelspec": {
      "name": "python3",
      "display_name": "Python 3"
    },
    "language_info": {
      "name": "python"
    }
  },
  "cells": [
    {
      "cell_type": "markdown",
      "metadata": {
        "id": "view-in-github",
        "colab_type": "text"
      },
      "source": [
        "<a href=\"https://colab.research.google.com/github/abdullahalmusabbir/Operating-System/blob/main/C_LOOK.ipynb\" target=\"_parent\"><img src=\"https://colab.research.google.com/assets/colab-badge.svg\" alt=\"Open In Colab\"/></a>"
      ]
    },
    {
      "cell_type": "code",
      "execution_count": 1,
      "metadata": {
        "colab": {
          "base_uri": "https://localhost:8080/"
        },
        "id": "oGbgH8HbE8Wm",
        "outputId": "3183da76-6c9c-441a-ff63-a784955254f9"
      },
      "outputs": [
        {
          "output_type": "stream",
          "name": "stdout",
          "text": [
            "path: [53, 65, 67, 98, 122, 124, 183, 14, 37]\n",
            "322 cylinders\n"
          ]
        }
      ],
      "source": [
        "queue = [98,183,37,122,14,124,65,67]\n",
        "queue.sort()\n",
        "path = []\n",
        "head_start_pointer = 53\n",
        "path.append(head_start_pointer)\n",
        "total_distance = 0\n",
        "left_queue = []\n",
        "right_queue = []\n",
        "disk_start = 0\n",
        "disk_end = 199\n",
        "\n",
        "for i in range(len(queue)):\n",
        "  if queue[i] <= head_start_pointer:\n",
        "    left_queue.append(queue[i])\n",
        "  else:\n",
        "    right_queue.append(queue[i])\n",
        "\n",
        "for i in range(len(right_queue)):\n",
        "  total_distance = total_distance + abs(head_start_pointer - right_queue[i])\n",
        "  head_start_pointer=right_queue[i]\n",
        "  path.append(right_queue[i])\n",
        "for i in range(len(left_queue)):\n",
        "  total_distance = total_distance + abs(head_start_pointer - left_queue[i])\n",
        "  head_start_pointer=left_queue[i]\n",
        "  path.append(left_queue[i])\n",
        "print('path:',path)\n",
        "print(f'{total_distance} cylinders')\n"
      ]
    }
  ]
}