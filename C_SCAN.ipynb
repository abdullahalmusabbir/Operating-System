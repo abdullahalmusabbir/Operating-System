{
  "nbformat": 4,
  "nbformat_minor": 0,
  "metadata": {
    "colab": {
      "provenance": [],
      "authorship_tag": "ABX9TyM6FyEhgqgZdMVn4PxxTYOK",
      "include_colab_link": true
    },
    "kernelspec": {
      "name": "python3",
      "display_name": "Python 3"
    },
    "language_info": {
      "name": "python"
    }
  },
  "cells": [
    {
      "cell_type": "markdown",
      "metadata": {
        "id": "view-in-github",
        "colab_type": "text"
      },
      "source": [
        "<a href=\"https://colab.research.google.com/github/abdullahalmusabbir/Operating-System/blob/main/C_SCAN.ipynb\" target=\"_parent\"><img src=\"https://colab.research.google.com/assets/colab-badge.svg\" alt=\"Open In Colab\"/></a>"
      ]
    },
    {
      "cell_type": "code",
      "execution_count": 2,
      "metadata": {
        "colab": {
          "base_uri": "https://localhost:8080/"
        },
        "id": "FjDo3NHHE1CJ",
        "outputId": "63869f30-11d4-4f29-e4fd-288696528b05"
      },
      "outputs": [
        {
          "output_type": "stream",
          "name": "stdout",
          "text": [
            "path: [53, 65, 67, 98, 122, 124, 183, 199, 0, 14, 37]\n",
            "382 cylinders\n"
          ]
        }
      ],
      "source": [
        "queue = [98,183,37,122,14,124,65,67]\n",
        "queue.sort()\n",
        "path = []\n",
        "head_start_pointer = 53\n",
        "path.append(head_start_pointer)\n",
        "total_distance = 0\n",
        "left = []\n",
        "right= []\n",
        "start = 0\n",
        "end = 199\n",
        "\n",
        "for i in range(len(queue)):\n",
        "  if queue[i] <= head_start_pointer:\n",
        "    left.append(queue[i])\n",
        "  else:\n",
        "    right.append(queue[i])\n",
        "\n",
        "left.append(start)\n",
        "left.sort()\n",
        "right.append(end)\n",
        "\n",
        "for i in range(len(right)):\n",
        "  total_distance = total_distance + abs(head_start_pointer - right[i])\n",
        "  head_start_pointer=right[i]\n",
        "  path.append(right[i])\n",
        "for i in range(len(left)):\n",
        "  total_distance = total_distance + abs(head_start_pointer - left[i])\n",
        "  head_start_pointer=left[i]\n",
        "  path.append(left[i])\n",
        "print('path:',path)\n",
        "print(f'{total_distance} cylinders')\n"
      ]
    }
  ]
}