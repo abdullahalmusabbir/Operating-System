{
  "nbformat": 4,
  "nbformat_minor": 0,
  "metadata": {
    "colab": {
      "provenance": [],
      "authorship_tag": "ABX9TyNtGiLMCYoOjz+l/ET7tExh",
      "include_colab_link": true
    },
    "kernelspec": {
      "name": "python3",
      "display_name": "Python 3"
    },
    "language_info": {
      "name": "python"
    }
  },
  "cells": [
    {
      "cell_type": "markdown",
      "metadata": {
        "id": "view-in-github",
        "colab_type": "text"
      },
      "source": [
        "<a href=\"https://colab.research.google.com/github/abdullahalmusabbir/Operating-System/blob/main/Deadlock.ipynb\" target=\"_parent\"><img src=\"https://colab.research.google.com/assets/colab-badge.svg\" alt=\"Open In Colab\"/></a>"
      ]
    },
    {
      "cell_type": "code",
      "execution_count": 3,
      "metadata": {
        "colab": {
          "base_uri": "https://localhost:8080/"
        },
        "id": "CfWJOo8eDUSw",
        "outputId": "339e9cf1-8e6b-4f61-a0f5-4dc37381e2b6"
      },
      "outputs": [
        {
          "output_type": "stream",
          "name": "stdout",
          "text": [
            "Thread-1: trying to acquire lock_aThread-2: trying to acquire lock_b\n",
            "Thread-2: acquired lock_b\n",
            "\n",
            "Thread-1: acquired lock_a\n",
            "Thread-2: trying to acquire lock_aThread-1: trying to acquire lock_b\n",
            "\n",
            "Thread-1: failed to acquire lock_b, releasing lock_a\n",
            "Thread-2: acquired lock_a\n",
            "Done\n"
          ]
        }
      ],
      "source": [
        "import threading\n",
        "import time\n",
        "\n",
        "lock_a = threading.Lock()\n",
        "lock_b = threading.Lock()\n",
        "\n",
        "def thread1():\n",
        "    print(\"Thread-1: trying to acquire lock_a\")\n",
        "    got_a = lock_a.acquire(timeout=2)\n",
        "    if not got_a:\n",
        "        print(\"Thread-1: failed to acquire lock_a\")\n",
        "        return\n",
        "    print(\"Thread-1: acquired lock_a\")\n",
        "    time.sleep(1)\n",
        "\n",
        "    print(\"Thread-1: trying to acquire lock_b\")\n",
        "    got_b = lock_b.acquire(timeout=2)\n",
        "    if not got_b:\n",
        "        print(\"Thread-1: failed to acquire lock_b, releasing lock_a\")\n",
        "        lock_a.release()\n",
        "        return\n",
        "    print(\"Thread-1: acquired lock_b\")\n",
        "\n",
        "    lock_b.release()\n",
        "    lock_a.release()\n",
        "\n",
        "def thread2():\n",
        "    print(\"Thread-2: trying to acquire lock_b\")\n",
        "    got_b = lock_b.acquire(timeout=2)\n",
        "    if not got_b:\n",
        "        print(\"Thread-2: failed to acquire lock_b\")\n",
        "        return\n",
        "    print(\"Thread-2: acquired lock_b\")\n",
        "    time.sleep(1)\n",
        "\n",
        "    print(\"Thread-2: trying to acquire lock_a\")\n",
        "    got_a = lock_a.acquire(timeout=2)\n",
        "    if not got_a:\n",
        "        print(\"Thread-2: failed to acquire lock_a, releasing lock_b\")\n",
        "        lock_b.release()\n",
        "        return\n",
        "    print(\"Thread-2: acquired lock_a\")\n",
        "\n",
        "    lock_a.release()\n",
        "    lock_b.release()\n",
        "\n",
        "t1 = threading.Thread(target=thread1)\n",
        "t2 = threading.Thread(target=thread2)\n",
        "\n",
        "t1.start()\n",
        "t2.start()\n",
        "\n",
        "t1.join()\n",
        "t2.join()\n",
        "\n",
        "print(\"Done\")\n"
      ]
    }
  ]
}