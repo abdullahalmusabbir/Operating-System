{
  "nbformat": 4,
  "nbformat_minor": 0,
  "metadata": {
    "colab": {
      "provenance": [],
      "authorship_tag": "ABX9TyMg1CI30dKyu01gbFODloI+",
      "include_colab_link": true
    },
    "kernelspec": {
      "name": "python3",
      "display_name": "Python 3"
    },
    "language_info": {
      "name": "python"
    }
  },
  "cells": [
    {
      "cell_type": "markdown",
      "metadata": {
        "id": "view-in-github",
        "colab_type": "text"
      },
      "source": [
        "<a href=\"https://colab.research.google.com/github/abdullahalmusabbir/Operating-System/blob/main/FCFS.ipynb\" target=\"_parent\"><img src=\"https://colab.research.google.com/assets/colab-badge.svg\" alt=\"Open In Colab\"/></a>"
      ]
    },
    {
      "cell_type": "code",
      "execution_count": 1,
      "metadata": {
        "colab": {
          "base_uri": "https://localhost:8080/"
        },
        "id": "fVpQiFcqBhuF",
        "outputId": "eea38c8a-0bad-493a-b85c-47705dc22637"
      },
      "outputs": [
        {
          "output_type": "stream",
          "name": "stdout",
          "text": [
            "path: [53, 98, 183, 37, 122, 14, 124, 65, 67]\n",
            "640 cylinders\n"
          ]
        }
      ],
      "source": [
        "queue = [98,183,37,122,14,124,65,67]\n",
        "path = []\n",
        "head_start_pointer = 53\n",
        "path.append(head_start_pointer)\n",
        "total_distance = 0\n",
        "for i in range(len(queue)):\n",
        "  path.append(queue[i])\n",
        "  total_distance = total_distance + abs(head_start_pointer - queue[i])\n",
        "  head_start_pointer = queue[i]\n",
        "print('path:',path)\n",
        "print(f'{total_distance} cylinders')\n"
      ]
    }
  ]
}