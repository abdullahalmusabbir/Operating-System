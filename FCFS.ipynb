{
  "nbformat": 4,
  "nbformat_minor": 0,
  "metadata": {
    "colab": {
      "provenance": [],
      "authorship_tag": "ABX9TyNh7cQLWido/MrN2olGdz3o",
      "include_colab_link": true
    },
    "kernelspec": {
      "name": "python3",
      "display_name": "Python 3"
    },
    "language_info": {
      "name": "python"
    }
  },
  "cells": [
    {
      "cell_type": "markdown",
      "metadata": {
        "id": "view-in-github",
        "colab_type": "text"
      },
      "source": [
        "<a href=\"https://colab.research.google.com/github/abdullahalmusabbir/Operating-System/blob/main/FCFS.ipynb\" target=\"_parent\"><img src=\"https://colab.research.google.com/assets/colab-badge.svg\" alt=\"Open In Colab\"/></a>"
      ]
    },
    {
      "cell_type": "code",
      "execution_count": 1,
      "metadata": {
        "colab": {
          "base_uri": "https://localhost:8080/"
        },
        "id": "kBbDx52pv718",
        "outputId": "9c64f107-f8ff-4b7f-ce81-a515aba58764"
      },
      "outputs": [
        {
          "output_type": "stream",
          "name": "stdout",
          "text": [
            "[0, 21, 24, 30, 32]\n",
            "Average Waiting Time: 18.75\n",
            "\n",
            "Gantt Chart:\n",
            "0P121P224P330P432"
          ]
        }
      ],
      "source": [
        "data={\n",
        "    \"P1\": 21,\n",
        "    \"P2\": 3,\n",
        "    \"P3\": 6,\n",
        "    \"P4\": 2\n",
        "}\n",
        "\n",
        "processes = list(data.keys())\n",
        "burst_times = list(data.values())\n",
        "waiting_time= [0]\n",
        "\n",
        "for i in range(1,len(processes)+1):\n",
        "    waiting_time.append(waiting_time[i-1] + burst_times[i-1])\n",
        "\n",
        "sum = 0\n",
        "for i in range(len(processes)):\n",
        "    sum += waiting_time[i]\n",
        "\n",
        "print(waiting_time)\n",
        "print(\"Average Waiting Time:\", sum/len(processes))\n",
        "\n",
        "print(\"\\nGantt Chart:\")\n",
        "current_time = 0\n",
        "print(\"0\", end=\"\")\n",
        "for i in range(len(processes)):\n",
        "    print(processes[i], end=\"\")\n",
        "    current_time +=burst_times[i]\n",
        "    print(current_time,end=\"\")"
      ]
    }
  ]
}