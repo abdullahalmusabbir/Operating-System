{
  "nbformat": 4,
  "nbformat_minor": 0,
  "metadata": {
    "colab": {
      "provenance": [],
      "authorship_tag": "ABX9TyOKto//TMQBEhayTTd0uQ/b",
      "include_colab_link": true
    },
    "kernelspec": {
      "name": "python3",
      "display_name": "Python 3"
    },
    "language_info": {
      "name": "python"
    }
  },
  "cells": [
    {
      "cell_type": "markdown",
      "metadata": {
        "id": "view-in-github",
        "colab_type": "text"
      },
      "source": [
        "<a href=\"https://colab.research.google.com/github/abdullahalmusabbir/Operating-System/blob/main/FIFO_page_replacement.ipynb\" target=\"_parent\"><img src=\"https://colab.research.google.com/assets/colab-badge.svg\" alt=\"Open In Colab\"/></a>"
      ]
    },
    {
      "cell_type": "code",
      "execution_count": 2,
      "metadata": {
        "id": "QwYC1Da3IJ2A",
        "colab": {
          "base_uri": "https://localhost:8080/"
        },
        "outputId": "55816c72-bca4-42f1-b2d3-0921f4fe4095"
      },
      "outputs": [
        {
          "output_type": "stream",
          "name": "stdout",
          "text": [
            "[7]\n",
            "[7, 0]\n",
            "[7, 0, 1]\n",
            "[2, 0, 1]\n",
            "----\n",
            "[2, 3, 1]\n",
            "[2, 3, 0]\n",
            "[4, 3, 0]\n",
            "[4, 2, 0]\n",
            "[4, 2, 3]\n",
            "[0, 2, 3]\n",
            "----\n",
            "----\n",
            "[0, 1, 3]\n",
            "[0, 1, 2]\n",
            "----\n",
            "----\n",
            "[7, 1, 2]\n",
            "[7, 0, 2]\n",
            "[7, 0, 1]\n",
            "Faults = 15\n",
            "Hits = 5\n"
          ]
        }
      ],
      "source": [
        "reference_string = [7, 0, 1, 2, 0, 3, 0, 4, 2, 3, 0, 3, 2, 1, 2, 0, 1, 7, 0, 1]\n",
        "frame_size = 3\n",
        "frames = []\n",
        "page_faults = 0\n",
        "page_hits = 0\n",
        "index = 0\n",
        "\n",
        "\n",
        "for page in reference_string:\n",
        "    if page in frames:\n",
        "        page_hits += 1\n",
        "        print(\"----\")\n",
        "    else:\n",
        "        if len(frames) < frame_size:\n",
        "            frames.append(page)\n",
        "        else:\n",
        "            frames[index] = page\n",
        "            index = (index + 1) % frame_size\n",
        "        page_faults += 1\n",
        "        print(frames)\n",
        "\n",
        "print(f\"Faults = {page_faults}\")\n",
        "print(f\"Hits = {page_hits}\")\n"
      ]
    }
  ]
}