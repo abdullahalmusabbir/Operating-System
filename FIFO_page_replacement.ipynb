{
  "nbformat": 4,
  "nbformat_minor": 0,
  "metadata": {
    "colab": {
      "provenance": [],
      "gpuType": "T4",
      "authorship_tag": "ABX9TyPctGhn25kgx/NrOgg9zFnv",
      "include_colab_link": true
    },
    "kernelspec": {
      "name": "python3",
      "display_name": "Python 3"
    },
    "language_info": {
      "name": "python"
    },
    "accelerator": "GPU"
  },
  "cells": [
    {
      "cell_type": "markdown",
      "metadata": {
        "id": "view-in-github",
        "colab_type": "text"
      },
      "source": [
        "<a href=\"https://colab.research.google.com/github/abdullahalmusabbir/Operating-System/blob/main/FIFO_page_replacement.ipynb\" target=\"_parent\"><img src=\"https://colab.research.google.com/assets/colab-badge.svg\" alt=\"Open In Colab\"/></a>"
      ]
    },
    {
      "cell_type": "code",
      "execution_count": 11,
      "metadata": {
        "id": "QwYC1Da3IJ2A",
        "colab": {
          "base_uri": "https://localhost:8080/"
        },
        "outputId": "741eef2d-70e5-4f0b-8df4-ac76acb54e60"
      },
      "outputs": [
        {
          "output_type": "stream",
          "name": "stdout",
          "text": [
            "[7]\n",
            "[7, 0]\n",
            "[7, 0, 1]\n",
            "[0, 1, 2]\n",
            "[0, 1, 2]\n",
            "[1, 2, 3]\n",
            "[2, 3, 0]\n",
            "[3, 0, 4]\n",
            "[0, 4, 2]\n",
            "[4, 2, 3]\n",
            "[2, 3, 0]\n",
            "[2, 3, 0]\n",
            "[2, 3, 0]\n",
            "[3, 0, 1]\n",
            "[0, 1, 2]\n",
            "[0, 1, 2]\n",
            "[0, 1, 2]\n",
            "[1, 2, 7]\n",
            "[2, 7, 0]\n",
            "[7, 0, 1]\n",
            "\n",
            "Faults = 15\n",
            "Hits   = 5\n"
          ]
        }
      ],
      "source": [
        "reference_string = [7, 0, 1, 2, 0, 3, 0, 4, 2, 3, 0, 3, 2, 1, 2, 0, 1, 7, 0, 1]\n",
        "frame_size = 3\n",
        "frames = []\n",
        "page_faults = 0\n",
        "page_hits = 0\n",
        "\n",
        "for page in reference_string:\n",
        "    if page in frames:\n",
        "        page_hits += 1\n",
        "        print(frames)\n",
        "    else:\n",
        "        if len(frames) < frame_size:\n",
        "            frames.append(page)\n",
        "        else:\n",
        "            frames.pop(0)\n",
        "            frames.append(page)\n",
        "        page_faults += 1\n",
        "        print(frames)\n",
        "\n",
        "print(f\"\\nFaults = {page_faults}\")\n",
        "print(f\"Hits   = {page_hits}\")\n"
      ]
    }
  ]
}