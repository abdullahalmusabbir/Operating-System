{
  "nbformat": 4,
  "nbformat_minor": 0,
  "metadata": {
    "colab": {
      "provenance": [],
      "authorship_tag": "ABX9TyPJj+yfrFktFeEpqxu7xwbS",
      "include_colab_link": true
    },
    "kernelspec": {
      "name": "python3",
      "display_name": "Python 3"
    },
    "language_info": {
      "name": "python"
    }
  },
  "cells": [
    {
      "cell_type": "markdown",
      "metadata": {
        "id": "view-in-github",
        "colab_type": "text"
      },
      "source": [
        "<a href=\"https://colab.research.google.com/github/abdullahalmusabbir/Operating-System/blob/main/LRU_Page_Replacement_.ipynb\" target=\"_parent\"><img src=\"https://colab.research.google.com/assets/colab-badge.svg\" alt=\"Open In Colab\"/></a>"
      ]
    },
    {
      "cell_type": "code",
      "execution_count": 16,
      "metadata": {
        "colab": {
          "base_uri": "https://localhost:8080/"
        },
        "id": "0aOG69nhj7M1",
        "outputId": "69a0ff41-92b9-41dd-cd1f-d049f682a77b"
      },
      "outputs": [
        {
          "output_type": "stream",
          "name": "stdout",
          "text": [
            "[7]\n",
            "[7, 0]\n",
            "[7, 0, 1]\n",
            "[2, 0, 1]\n",
            "-------\n",
            "[2, 0, 3]\n",
            "-------\n",
            "[4, 0, 3]\n",
            "[4, 0, 2]\n",
            "[4, 3, 2]\n",
            "[0, 3, 2]\n",
            "-------\n",
            "-------\n",
            "[1, 3, 2]\n",
            "-------\n",
            "[1, 0, 2]\n",
            "-------\n",
            "[1, 0, 7]\n",
            "-------\n",
            "-------\n",
            "\n",
            "Faults: 12\n",
            "Hits: 8\n"
          ]
        }
      ],
      "source": [
        "reference_string = [7,0,1,2,0,3,0,4,2,3,0,3,2,1,2,0,1,7,0,1]\n",
        "frame_size = 3\n",
        "frame = []\n",
        "fault = 0\n",
        "hit = 0\n",
        "\n",
        "for i in range(len(reference_string)):\n",
        "    if reference_string[i] in frame:\n",
        "        hit += 1\n",
        "        print(\"-------\")\n",
        "        continue\n",
        "    elif len(frame) < frame_size:\n",
        "        frame.append(reference_string[i])\n",
        "        fault += 1\n",
        "    else:\n",
        "        check_list = reference_string[:i]\n",
        "        past = float(\"inf\")\n",
        "        replace_index = -1\n",
        "        for j in range(len(frame)):\n",
        "            if frame[j] in check_list:\n",
        "                last_use = i - 1 - check_list[::-1].index(frame[j])\n",
        "                if last_use < past:\n",
        "                    past = last_use\n",
        "                    replace_index = j\n",
        "            else:\n",
        "                replace_index = j\n",
        "                break\n",
        "        frame[replace_index] = reference_string[i]\n",
        "        fault += 1\n",
        "\n",
        "    print(frame)\n",
        "\n",
        "print(f\"\\nFaults: {fault}\")\n",
        "print(f\"Hits: {hit}\")"
      ]
    }
  ]
}