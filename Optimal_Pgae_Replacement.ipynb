{
  "nbformat": 4,
  "nbformat_minor": 0,
  "metadata": {
    "colab": {
      "provenance": [],
      "authorship_tag": "ABX9TyOZZDEUEuX1Hz2NtahX/69g",
      "include_colab_link": true
    },
    "kernelspec": {
      "name": "python3",
      "display_name": "Python 3"
    },
    "language_info": {
      "name": "python"
    }
  },
  "cells": [
    {
      "cell_type": "markdown",
      "metadata": {
        "id": "view-in-github",
        "colab_type": "text"
      },
      "source": [
        "<a href=\"https://colab.research.google.com/github/abdullahalmusabbir/Operating-System/blob/main/Optimal_Pgae_Replacement.ipynb\" target=\"_parent\"><img src=\"https://colab.research.google.com/assets/colab-badge.svg\" alt=\"Open In Colab\"/></a>"
      ]
    },
    {
      "cell_type": "code",
      "execution_count": null,
      "metadata": {
        "colab": {
          "base_uri": "https://localhost:8080/"
        },
        "id": "4KPME5tUfRTN",
        "outputId": "a2c3eeb3-eb0b-4d1b-82d5-7d871cbd9df5"
      },
      "outputs": [
        {
          "output_type": "stream",
          "name": "stdout",
          "text": [
            "[7]\n",
            "[7, 0]\n",
            "[7, 0, 1]\n",
            "[2, 0, 1]\n",
            "----\n",
            "[2, 0, 3]\n",
            "----\n",
            "[2, 4, 3]\n",
            "----\n",
            "----\n",
            "[2, 0, 3]\n",
            "----\n",
            "----\n",
            "[2, 0, 1]\n",
            "----\n",
            "----\n",
            "----\n",
            "[7, 0, 1]\n",
            "----\n",
            "----\n",
            "Fault: 9\n",
            "Hit: 11\n"
          ]
        }
      ],
      "source": [
        "reference_string = [7,0,1,2,0,3,0,4,2,3,0,3,2,1,2,0,1,7,0,1]\n",
        "frame_size = 3\n",
        "frame = []\n",
        "page_fault_count = 0\n",
        "hit= 0\n",
        "\n",
        "for i in range(len(reference_string)):\n",
        "  if reference_string[i] in frame:\n",
        "    hit +=1\n",
        "    print(\"----\")\n",
        "    continue\n",
        "  elif len(frame) < frame_size:\n",
        "    frame.append(reference_string[i])\n",
        "    page_fault_count +=1\n",
        "  else:\n",
        "    check_list = reference_string[i+1:]\n",
        "    future = -1\n",
        "    replace_index = -1\n",
        "    for j in range(len(frame)):\n",
        "        if frame[j] in check_list:\n",
        "            next_use = check_list.index(frame[j]) + (i+1)\n",
        "            if next_use > future:\n",
        "                future = next_use\n",
        "                replace_index = j\n",
        "        else:\n",
        "            replace_index = j\n",
        "            break\n",
        "    frame[replace_index] = reference_string[i]\n",
        "    page_fault_count +=1\n",
        "  print(frame)\n",
        "print(f\"Fault: {page_fault_count}\")\n",
        "print(f\"Hit: {hit}\")"
      ]
    }
  ]
}