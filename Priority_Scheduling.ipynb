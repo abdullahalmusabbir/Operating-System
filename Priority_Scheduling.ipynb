{
  "nbformat": 4,
  "nbformat_minor": 0,
  "metadata": {
    "colab": {
      "provenance": [],
      "authorship_tag": "ABX9TyNNiBVzuww294OuzMXgO2G/",
      "include_colab_link": true
    },
    "kernelspec": {
      "name": "python3",
      "display_name": "Python 3"
    },
    "language_info": {
      "name": "python"
    }
  },
  "cells": [
    {
      "cell_type": "markdown",
      "metadata": {
        "id": "view-in-github",
        "colab_type": "text"
      },
      "source": [
        "<a href=\"https://colab.research.google.com/github/abdullahalmusabbir/Operating-System/blob/main/Priority_Scheduling.ipynb\" target=\"_parent\"><img src=\"https://colab.research.google.com/assets/colab-badge.svg\" alt=\"Open In Colab\"/></a>"
      ]
    },
    {
      "cell_type": "code",
      "execution_count": 1,
      "metadata": {
        "id": "2wKUUWZ4wK3A",
        "colab": {
          "base_uri": "https://localhost:8080/"
        },
        "outputId": "34528fa8-8c4a-458e-ec3a-1aeca335ee6f"
      },
      "outputs": [
        {
          "output_type": "stream",
          "name": "stdout",
          "text": [
            "0p23p124p426p332\n",
            "Average Time: 13.25\n"
          ]
        }
      ],
      "source": [
        "process_dict = {\n",
        "    'pros': ['p1', 'p2', 'p3', 'p4'],\n",
        "    'burst_time': [21, 3, 6, 2],\n",
        "    'priority': [2, 1, 4, 3]\n",
        "}\n",
        "sorted_indexes = sorted(range(len(process_dict['priority'])),key=lambda i: process_dict['priority'][i])\n",
        "waiting_time = 0\n",
        "storing_waiting_time = []\n",
        "print(waiting_time, end='')\n",
        "for idx in sorted_indexes:\n",
        "    waiting_time += process_dict['burst_time'][idx]\n",
        "    storing_waiting_time.append(waiting_time)\n",
        "    print(f'{process_dict[\"pros\"][idx]}{waiting_time}', end='')\n",
        "average_waiting_time = sum(storing_waiting_time[:-1]) / len(process_dict['pros'])\n",
        "print(f'\\nAverage Time: {average_waiting_time}')\n"
      ]
    }
  ]
}