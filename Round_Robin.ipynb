{
  "nbformat": 4,
  "nbformat_minor": 0,
  "metadata": {
    "colab": {
      "provenance": [],
      "authorship_tag": "ABX9TyO/BJqJW1FS0jSgg9ox99QR",
      "include_colab_link": true
    },
    "kernelspec": {
      "name": "python3",
      "display_name": "Python 3"
    },
    "language_info": {
      "name": "python"
    }
  },
  "cells": [
    {
      "cell_type": "markdown",
      "metadata": {
        "id": "view-in-github",
        "colab_type": "text"
      },
      "source": [
        "<a href=\"https://colab.research.google.com/github/abdullahalmusabbir/Operating-System/blob/main/Round_Robin.ipynb\" target=\"_parent\"><img src=\"https://colab.research.google.com/assets/colab-badge.svg\" alt=\"Open In Colab\"/></a>"
      ]
    },
    {
      "cell_type": "markdown",
      "source": [
        "**Round Robin**"
      ],
      "metadata": {
        "id": "KRYP6fV6xsRy"
      }
    },
    {
      "cell_type": "code",
      "execution_count": null,
      "metadata": {
        "colab": {
          "base_uri": "https://localhost:8080/"
        },
        "id": "TatYM2Oyw0z_",
        "outputId": "bfb91d5d-f6dd-4609-d67c-5d947f7ccf64"
      },
      "outputs": [
        {
          "output_type": "stream",
          "name": "stdout",
          "text": [
            "0 p1 5 p2 8 p3 13 p4 15 p1 20 p3 21 p1 26 p1 31 p1 32\n",
            "Waiting time: [11, 5, 15, 13]\n",
            "Average time: 11.0\n"
          ]
        }
      ],
      "source": [
        "process_dict = {\n",
        "    'pros': ['p1', 'p2', 'p3', 'p4'],\n",
        "    'burst_time': [21, 3, 6, 2]\n",
        "}\n",
        "completion_time = [0] * len(process_dict['pros'])\n",
        "quantum = 5\n",
        "time = 0\n",
        "print(time, end='')\n",
        "original_burst_time = process_dict['burst_time'].copy()\n",
        "while True:\n",
        "    if sum(process_dict['burst_time']) == 0:\n",
        "        break\n",
        "    for i in range(len(process_dict['pros'])):\n",
        "        if process_dict['burst_time'][i] == 0:\n",
        "            continue\n",
        "\n",
        "        if process_dict['burst_time'][i] <= quantum:\n",
        "            time += process_dict['burst_time'][i]\n",
        "            print(f' {process_dict[\"pros\"][i]} {time}', end='')\n",
        "            process_dict['burst_time'][i] = 0\n",
        "            completion_time[i] = time\n",
        "        else:\n",
        "            time += quantum\n",
        "            print(f' {process_dict[\"pros\"][i]} {time}', end='')\n",
        "            process_dict['burst_time'][i] -= quantum\n",
        "waiting_times = []\n",
        "for i in range(len(original_burst_time)):\n",
        "    wt = completion_time[i] - original_burst_time[i]\n",
        "    waiting_times.append(wt)\n",
        "avg_waiting_time = sum(waiting_times) / len(waiting_times)\n",
        "print(\"\\nWaiting time:\", waiting_times)\n",
        "print(\"Average time:\", avg_waiting_time)\n"
      ]
    }
  ]
}