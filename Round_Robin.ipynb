{
  "nbformat": 4,
  "nbformat_minor": 0,
  "metadata": {
    "colab": {
      "provenance": [],
      "authorship_tag": "ABX9TyNdkr+GGZNfjCfSOsL2m08O",
      "include_colab_link": true
    },
    "kernelspec": {
      "name": "python3",
      "display_name": "Python 3"
    },
    "language_info": {
      "name": "python"
    }
  },
  "cells": [
    {
      "cell_type": "markdown",
      "metadata": {
        "id": "view-in-github",
        "colab_type": "text"
      },
      "source": [
        "<a href=\"https://colab.research.google.com/github/abdullahalmusabbir/Operating-System/blob/main/Round_Robin.ipynb\" target=\"_parent\"><img src=\"https://colab.research.google.com/assets/colab-badge.svg\" alt=\"Open In Colab\"/></a>"
      ]
    },
    {
      "cell_type": "markdown",
      "source": [
        "**Round Robin**"
      ],
      "metadata": {
        "id": "KRYP6fV6xsRy"
      }
    },
    {
      "cell_type": "code",
      "execution_count": 49,
      "metadata": {
        "colab": {
          "base_uri": "https://localhost:8080/"
        },
        "id": "TatYM2Oyw0z_",
        "outputId": "bfb91d5d-f6dd-4609-d67c-5d947f7ccf64"
      },
      "outputs": [
        {
          "output_type": "stream",
          "name": "stdout",
          "text": [
            "0 p1 5 p2 8 p3 13 p4 15 p1 20 p3 21 p1 26 p1 31 p1 32\n",
            "Waiting time: [11, 5, 15, 13]\n",
            "Average time: 11.0\n"
          ]
        }
      ],
      "source": [
        "process_dict = {\n",
        "    'pros': ['p1', 'p2', 'p3', 'p4'],\n",
        "    'burst_time': [21, 3, 6, 2]\n",
        "}\n",
        "completion_time = [0] * len(process_dict['pros'])\n",
        "quantum = 5\n",
        "time = 0\n",
        "print(time, end='')\n",
        "original_burst_time = process_dict['burst_time'].copy()\n",
        "while True:\n",
        "    if sum(process_dict['burst_time']) == 0:\n",
        "        break\n",
        "    for i in range(len(process_dict['pros'])):\n",
        "        if process_dict['burst_time'][i] == 0:\n",
        "            continue\n",
        "\n",
        "        if process_dict['burst_time'][i] <= quantum:\n",
        "            time += process_dict['burst_time'][i]\n",
        "            print(f' {process_dict[\"pros\"][i]} {time}', end='')\n",
        "            process_dict['burst_time'][i] = 0\n",
        "            completion_time[i] = time\n",
        "        else:\n",
        "            time += quantum\n",
        "            print(f' {process_dict[\"pros\"][i]} {time}', end='')\n",
        "            process_dict['burst_time'][i] -= quantum\n",
        "waiting_times = []\n",
        "for i in range(len(original_burst_time)):\n",
        "    wt = completion_time[i] - original_burst_time[i]\n",
        "    waiting_times.append(wt)\n",
        "avg_waiting_time = sum(waiting_times) / len(waiting_times)\n",
        "print(\"\\nWaiting time:\", waiting_times)\n",
        "print(\"Average time:\", avg_waiting_time)\n"
      ]
    },
    {
      "cell_type": "markdown",
      "source": [
        "**Priority Scheduling**"
      ],
      "metadata": {
        "id": "gN0vOKr-xwfR"
      }
    },
    {
      "cell_type": "code",
      "source": [
        "process_dict = {\n",
        "    'pros': ['p1', 'p2', 'p3', 'p4'],\n",
        "    'burst_time': [21, 3, 6, 2],\n",
        "    'priority': [2, 1, 4, 3]\n",
        "}\n",
        "sorted_indexes = sorted(range(len(process_dict['priority'])),key=lambda i: process_dict['priority'][i])\n",
        "waiting_time = 0\n",
        "storing_waiting_time = []\n",
        "print(waiting_time, end='')\n",
        "for idx in sorted_indexes:\n",
        "    waiting_time += process_dict['burst_time'][idx]\n",
        "    storing_waiting_time.append(waiting_time)\n",
        "    print(f'{process_dict[\"pros\"][idx]}{waiting_time}', end='')\n",
        "average_waiting_time = sum(storing_waiting_time[:-1]) / len(process_dict['pros'])\n",
        "print(f'\\nAverage Time: {average_waiting_time}')\n"
      ],
      "metadata": {
        "colab": {
          "base_uri": "https://localhost:8080/"
        },
        "id": "mhtG-AmExDoQ",
        "outputId": "6274fc6c-67df-4827-80d9-978d209f3e8a"
      },
      "execution_count": 50,
      "outputs": [
        {
          "output_type": "stream",
          "name": "stdout",
          "text": [
            "0p23p124p426p332\n",
            "Average Time: 13.25\n"
          ]
        }
      ]
    },
    {
      "cell_type": "markdown",
      "source": [
        "**FCFS**"
      ],
      "metadata": {
        "id": "jo3uBDBYxRgA"
      }
    },
    {
      "cell_type": "code",
      "source": [
        "queue = [98,183,37,122,14,124,65,67]\n",
        "path = []\n",
        "head_start_pointer = 53\n",
        "path.append(head_start_pointer)\n",
        "total_distance = 0\n",
        "for i in range(len(queue)):\n",
        "  path.append(queue[i])\n",
        "  total_distance = total_distance + abs(head_start_pointer - queue[i])\n",
        "  head_start_pointer = queue[i]\n",
        "print('path:',path)\n",
        "print(f'{total_distance} cylinders')\n"
      ],
      "metadata": {
        "colab": {
          "base_uri": "https://localhost:8080/"
        },
        "id": "L2bDlakHxXzg",
        "outputId": "e1306278-064e-4fd1-8613-8b91b8f579ef"
      },
      "execution_count": 51,
      "outputs": [
        {
          "output_type": "stream",
          "name": "stdout",
          "text": [
            "path: [53, 98, 183, 37, 122, 14, 124, 65, 67]\n",
            "640 cylinders\n"
          ]
        }
      ]
    },
    {
      "cell_type": "markdown",
      "source": [
        "**SSTF**"
      ],
      "metadata": {
        "id": "QyH8V1-UxbMg"
      }
    },
    {
      "cell_type": "code",
      "source": [
        "queue = [98,183,37,122,14,124,65,67]\n",
        "path = []\n",
        "head_start_pointer = 53\n",
        "path.append(head_start_pointer)\n",
        "total_distance = 0\n",
        "\n",
        "for i in range(len(queue)):\n",
        "  minimum_distance = float('inf')\n",
        "  index = -1\n",
        "  for i in range(len(queue)):\n",
        "    distance = abs(head_start_pointer-queue[i])\n",
        "    if distance < minimum_distance:\n",
        "      minimum_distance = distance\n",
        "      index = i\n",
        "  path.append(queue[index])\n",
        "  head_start_pointer = queue[index]\n",
        "  total_distance = total_distance + minimum_distance\n",
        "  queue.pop(index)\n",
        "print('path:',path)\n",
        "print(f'{total_distance} cylinders')"
      ],
      "metadata": {
        "colab": {
          "base_uri": "https://localhost:8080/"
        },
        "id": "mFLWbEz0xdvI",
        "outputId": "a7bac342-7717-42af-c37a-cbe7e2e16881"
      },
      "execution_count": 52,
      "outputs": [
        {
          "output_type": "stream",
          "name": "stdout",
          "text": [
            "path: [53, 65, 67, 37, 14, 98, 122, 124, 183]\n",
            "236 cylinders\n"
          ]
        }
      ]
    },
    {
      "cell_type": "markdown",
      "source": [
        "**SCAN**"
      ],
      "metadata": {
        "id": "2WJBljZxxguw"
      }
    },
    {
      "cell_type": "code",
      "source": [
        "queue = [98,183,37,122,14,124,65,67]\n",
        "queue.sort()\n",
        "path = []\n",
        "head_start_pointer = 53\n",
        "path.append(head_start_pointer)\n",
        "total_distance = 0\n",
        "left = []\n",
        "right = []\n",
        "start = 0\n",
        "for i in range(len(queue)):\n",
        "  if queue[i] <= head_start_pointer:\n",
        "    left.append(queue[i])\n",
        "  else:\n",
        "    right.append(queue[i])\n",
        "left.append(start)\n",
        "left.sort(reverse= True)\n",
        "for i in range(len(left)):\n",
        "  total_distance = total_distance + abs(head_start_pointer - left[i])\n",
        "  head_start_pointer=left[i]\n",
        "  path.append(left[i])\n",
        "for i in range(len(right)):\n",
        "  total_distance = total_distance + abs(head_start_pointer - right[i])\n",
        "  head_start_pointer=right[i]\n",
        "  path.append(right[i])\n",
        "print('path:',path)\n",
        "print(f'Total Head Movement: {total_distance} cylinders')\n"
      ],
      "metadata": {
        "colab": {
          "base_uri": "https://localhost:8080/"
        },
        "id": "lD7BaxevxizY",
        "outputId": "bd995348-2179-4144-9173-80c0e1ad5bf9"
      },
      "execution_count": 53,
      "outputs": [
        {
          "output_type": "stream",
          "name": "stdout",
          "text": [
            "path: [53, 37, 14, 0, 65, 67, 98, 122, 124, 183]\n",
            "Total Head Movement: 236 cylinders\n"
          ]
        }
      ]
    }
  ]
}