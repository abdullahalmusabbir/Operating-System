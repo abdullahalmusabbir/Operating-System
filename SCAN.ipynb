{
  "nbformat": 4,
  "nbformat_minor": 0,
  "metadata": {
    "colab": {
      "provenance": [],
      "authorship_tag": "ABX9TyMRaPLYUOT9emf5jwSQaTY/",
      "include_colab_link": true
    },
    "kernelspec": {
      "name": "python3",
      "display_name": "Python 3"
    },
    "language_info": {
      "name": "python"
    }
  },
  "cells": [
    {
      "cell_type": "markdown",
      "metadata": {
        "id": "view-in-github",
        "colab_type": "text"
      },
      "source": [
        "<a href=\"https://colab.research.google.com/github/abdullahalmusabbir/Operating-System/blob/main/SCAN.ipynb\" target=\"_parent\"><img src=\"https://colab.research.google.com/assets/colab-badge.svg\" alt=\"Open In Colab\"/></a>"
      ]
    },
    {
      "cell_type": "code",
      "execution_count": 1,
      "metadata": {
        "colab": {
          "base_uri": "https://localhost:8080/"
        },
        "id": "jrltBH6lCY6Y",
        "outputId": "c435faf2-eae2-4431-cf97-c95524c14372"
      },
      "outputs": [
        {
          "output_type": "stream",
          "name": "stdout",
          "text": [
            "path: [53, 37, 14, 0, 65, 67, 98, 122, 124, 183]\n",
            "Total Head Movement: 236 cylinders\n"
          ]
        }
      ],
      "source": [
        "queue = [98,183,37,122,14,124,65,67]\n",
        "queue.sort()\n",
        "path = []\n",
        "head_start_pointer = 53\n",
        "path.append(head_start_pointer)\n",
        "total_distance = 0\n",
        "left = []\n",
        "right = []\n",
        "start = 0\n",
        "for i in range(len(queue)):\n",
        "  if queue[i] <= head_start_pointer:\n",
        "    left.append(queue[i])\n",
        "  else:\n",
        "    right.append(queue[i])\n",
        "left.append(start)\n",
        "left.sort(reverse= True)\n",
        "for i in range(len(left)):\n",
        "  total_distance = total_distance + abs(head_start_pointer - left[i])\n",
        "  head_start_pointer=left[i]\n",
        "  path.append(left[i])\n",
        "for i in range(len(right)):\n",
        "  total_distance = total_distance + abs(head_start_pointer - right[i])\n",
        "  head_start_pointer=right[i]\n",
        "  path.append(right[i])\n",
        "print('path:',path)\n",
        "print(f'Total Head Movement: {total_distance} cylinders')"
      ]
    }
  ]
}