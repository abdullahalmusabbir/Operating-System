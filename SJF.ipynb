{
  "nbformat": 4,
  "nbformat_minor": 0,
  "metadata": {
    "colab": {
      "provenance": [],
      "authorship_tag": "ABX9TyMWPWLcQISOoHnZRBmASSpb",
      "include_colab_link": true
    },
    "kernelspec": {
      "name": "python3",
      "display_name": "Python 3"
    },
    "language_info": {
      "name": "python"
    }
  },
  "cells": [
    {
      "cell_type": "markdown",
      "metadata": {
        "id": "view-in-github",
        "colab_type": "text"
      },
      "source": [
        "<a href=\"https://colab.research.google.com/github/abdullahalmusabbir/Operating-System/blob/main/SJF.ipynb\" target=\"_parent\"><img src=\"https://colab.research.google.com/assets/colab-badge.svg\" alt=\"Open In Colab\"/></a>"
      ]
    },
    {
      "cell_type": "code",
      "execution_count": 1,
      "metadata": {
        "colab": {
          "base_uri": "https://localhost:8080/"
        },
        "id": "jU9e8mK_wI0g",
        "outputId": "f0f55e9c-7ed7-4243-a013-20c7f7b26f5b"
      },
      "outputs": [
        {
          "output_type": "stream",
          "name": "stdout",
          "text": [
            "[0, 2, 5, 11, 32]\n",
            "Average Waiting Time: 4.5\n",
            "\n",
            "Gantt Chart:\n",
            "0P42P25P311P132"
          ]
        }
      ],
      "source": [
        "data={\n",
        "    \"P1\": 21,\n",
        "    \"P2\": 3,\n",
        "    \"P3\": 6,\n",
        "    \"P4\": 2\n",
        "}\n",
        "sorted_data = dict(sorted(data.items(), key=lambda item: item[1]))\n",
        "processes = list(sorted_data.keys())\n",
        "burst_times = list(sorted_data.values())\n",
        "waiting_time= [0]\n",
        "\n",
        "for i in range(1,len(processes)+1):\n",
        "    waiting_time.append(waiting_time[i-1] + burst_times[i-1])\n",
        "\n",
        "sum = 0\n",
        "for i in range(len(processes)):\n",
        "    sum += waiting_time[i]\n",
        "\n",
        "print(waiting_time)\n",
        "print(\"Average Waiting Time:\", sum/len(processes))\n",
        "\n",
        "print(\"\\nGantt Chart:\")\n",
        "current_time = 0\n",
        "print(\"0\", end=\"\")\n",
        "for i in range(len(processes)):\n",
        "    print(processes[i], end=\"\")\n",
        "    current_time +=burst_times[i]\n",
        "    print(current_time,end=\"\")"
      ]
    }
  ]
}