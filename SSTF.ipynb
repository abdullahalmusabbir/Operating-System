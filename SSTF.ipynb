{
  "nbformat": 4,
  "nbformat_minor": 0,
  "metadata": {
    "colab": {
      "provenance": [],
      "authorship_tag": "ABX9TyNu29Usve68Ff3pM8DlHmlp",
      "include_colab_link": true
    },
    "kernelspec": {
      "name": "python3",
      "display_name": "Python 3"
    },
    "language_info": {
      "name": "python"
    }
  },
  "cells": [
    {
      "cell_type": "markdown",
      "metadata": {
        "id": "view-in-github",
        "colab_type": "text"
      },
      "source": [
        "<a href=\"https://colab.research.google.com/github/abdullahalmusabbir/Operating-System/blob/main/SSTF.ipynb\" target=\"_parent\"><img src=\"https://colab.research.google.com/assets/colab-badge.svg\" alt=\"Open In Colab\"/></a>"
      ]
    },
    {
      "cell_type": "code",
      "execution_count": 1,
      "metadata": {
        "colab": {
          "base_uri": "https://localhost:8080/"
        },
        "id": "j_Ret5WnB9lv",
        "outputId": "76c9c484-c7bb-45f3-a158-749e00bf61fc"
      },
      "outputs": [
        {
          "output_type": "stream",
          "name": "stdout",
          "text": [
            "path: [53, 65, 67, 37, 14, 98, 122, 124, 183]\n",
            "236 cylinders\n"
          ]
        }
      ],
      "source": [
        "queue = [98,183,37,122,14,124,65,67]\n",
        "path = []\n",
        "head_start_pointer = 53\n",
        "path.append(head_start_pointer)\n",
        "total_distance = 0\n",
        "\n",
        "for i in range(len(queue)):\n",
        "  minimum_distance = float('inf')\n",
        "  index = -1\n",
        "  for i in range(len(queue)):\n",
        "    distance = abs(head_start_pointer-queue[i])\n",
        "    if distance < minimum_distance:\n",
        "      minimum_distance = distance\n",
        "      index = i\n",
        "  path.append(queue[index])\n",
        "  head_start_pointer = queue[index]\n",
        "  total_distance = total_distance + minimum_distance\n",
        "  queue.pop(index)\n",
        "print('path:',path)\n",
        "print(f'{total_distance} cylinders')"
      ]
    }
  ]
}